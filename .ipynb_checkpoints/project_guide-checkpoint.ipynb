{
 "cells": [
  {
   "cell_type": "markdown",
   "id": "fd5afa99",
   "metadata": {},
   "source": [
    "# Image Classification with Tensorflow\n",
    "\n",
    "Reference: [Coursera Projects](https://www.coursera.org/learn/tensorflow-beginner-basic-image-classification/home/welcome)"
   ]
  },
  {
   "cell_type": "markdown",
   "id": "24173efa",
   "metadata": {},
   "source": [
    "<hr>\n",
    "\n",
    "<strong>Objective</strong>: create and train a neural network model using keras.Tensorflow that predicts the class of an image (i.e. an image with the number 5 should output the number \"5\"). "
   ]
  },
  {
   "cell_type": "markdown",
   "id": "b8acc7ab",
   "metadata": {},
   "source": [
    "<hr>\n",
    "\n",
    "### Dependencies"
   ]
  },
  {
   "cell_type": "code",
   "execution_count": 2,
   "id": "45e1654b",
   "metadata": {},
   "outputs": [
    {
     "name": "stdout",
     "output_type": "stream",
     "text": [
      "Using TensorFlow version 2.4.1\n"
     ]
    }
   ],
   "source": [
    "import tensorflow as tf\n",
    "\n",
    "print('Using TensorFlow version', tf.__version__)"
   ]
  },
  {
   "cell_type": "markdown",
   "id": "c3cd0f99",
   "metadata": {},
   "source": [
    "<hr>\n",
    "\n",
    "### Import the Data"
   ]
  },
  {
   "cell_type": "code",
   "execution_count": 1,
   "id": "8587ecd9",
   "metadata": {},
   "outputs": [],
   "source": [
    "# the MNIST dataset is commonly used for training image classification models\n",
    "from tensorflow.keras.datasets import mnist\n",
    "(x_train, y_train), (x_test, y_test) = mnist.load_data()"
   ]
  },
  {
   "cell_type": "code",
   "execution_count": null,
   "id": "b86d1549",
   "metadata": {},
   "outputs": [],
   "source": []
  }
 ],
 "metadata": {
  "kernelspec": {
   "display_name": "Python 3",
   "language": "python",
   "name": "python3"
  },
  "language_info": {
   "codemirror_mode": {
    "name": "ipython",
    "version": 3
   },
   "file_extension": ".py",
   "mimetype": "text/x-python",
   "name": "python",
   "nbconvert_exporter": "python",
   "pygments_lexer": "ipython3",
   "version": "3.8.9"
  }
 },
 "nbformat": 4,
 "nbformat_minor": 5
}
