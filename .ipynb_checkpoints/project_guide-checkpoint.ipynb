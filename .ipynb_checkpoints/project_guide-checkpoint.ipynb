{
 "cells": [
  {
   "cell_type": "markdown",
   "id": "fd5afa99",
   "metadata": {},
   "source": [
    "# Image Classification with Tensorflow\n",
    "\n",
    "Reference: [Coursera Projects](https://www.coursera.org/learn/tensorflow-beginner-basic-image-classification/home/welcome)"
   ]
  },
  {
   "cell_type": "markdown",
   "id": "24173efa",
   "metadata": {},
   "source": [
    "<hr>\n",
    "\n",
    "<strong>Objective</strong>: create and train a neural network model using keras.Tensorflow that predicts the class of an image (i.e. an image with the number 5 should output the number \"5\"). "
   ]
  },
  {
   "cell_type": "markdown",
   "id": "b8acc7ab",
   "metadata": {},
   "source": [
    "<hr>\n",
    "\n",
    "### Dependencies"
   ]
  },
  {
   "cell_type": "code",
   "execution_count": 2,
   "id": "45e1654b",
   "metadata": {},
   "outputs": [
    {
     "name": "stdout",
     "output_type": "stream",
     "text": [
      "Using TensorFlow version 2.4.1\n"
     ]
    }
   ],
   "source": [
    "import tensorflow as tf\n",
    "\n",
    "print('Using TensorFlow version', tf.__version__)"
   ]
  },
  {
   "cell_type": "markdown",
   "id": "7ba545da",
   "metadata": {},
   "source": [
    "<hr>\n",
    "\n",
    "### Import the Data"
   ]
  },
  {
   "cell_type": "code",
   "execution_count": 1,
   "id": "f5970bed",
   "metadata": {},
   "outputs": [],
   "source": [
    "# the MNIST dataset is commonly used for training image classification models\n",
    "from tensorflow.keras.datasets import mnist\n",
    "(x_train, y_train), (x_test, y_test) = mnist.load_data()"
   ]
  },
  {
   "cell_type": "code",
   "execution_count": 2,
   "id": "1a85aef8",
   "metadata": {},
   "outputs": [
    {
     "name": "stdout",
     "output_type": "stream",
     "text": [
      "Shape of x: (60000, 28, 28)\n",
      "Shape of y: (60000,)\n",
      "------------------------------\n",
      "Shape of x: (10000, 28, 28)\n",
      "Shape of y: (10000,)\n"
     ]
    }
   ],
   "source": [
    "print(f\"Shape of x: {x_train.shape}\")\n",
    "print(f\"Shape of y: {y_train.shape}\")\n",
    "print(\"---\" * 10)\n",
    "print(f\"Shape of x: {x_test.shape}\")\n",
    "print(f\"Shape of y: {y_test.shape}\")"
   ]
  },
  {
   "cell_type": "markdown",
   "id": "d70a6616",
   "metadata": {},
   "source": [
    "<strong>Observed</strong>: There are 60,000 training samples and 10,000 testing samples. Each MNIST sample has 28 columns and 28 rows (each representing one pixel in an image)"
   ]
  },
  {
   "cell_type": "code",
   "execution_count": 4,
   "id": "9d23b290",
   "metadata": {},
   "outputs": [
    {
     "data": {
      "image/png": "[encoded data removed]",
      "text/plain": [
       "<Figure size 432x288 with 1 Axes>"
      ]
     },
     "metadata": {
      "needs_background": "light"
     },
     "output_type": "display_data"
    }
   ],
   "source": [
    "import matplotlib.pyplot as plt\n",
    "%matplotlib inline\n",
    "\n",
    "plt.imshow(x_train[0], cmap='binary')\n",
    "plt.show()"
   ]
  },
  {
   "cell_type": "code",
   "execution_count": 5,
   "id": "c31ef935",
   "metadata": {},
   "outputs": [
    {
     "name": "stdout",
     "output_type": "stream",
     "text": [
      "5\n"
     ]
    }
   ],
   "source": [
    "print(y_train[0])"
   ]
  },
  {
   "cell_type": "code",
   "execution_count": 6,
   "id": "d059a943",
   "metadata": {},
   "outputs": [
    {
     "name": "stdout",
     "output_type": "stream",
     "text": [
      "{0, 1, 2, 3, 4, 5, 6, 7, 8, 9}\n"
     ]
    }
   ],
   "source": [
    "# displaying the possible outputs of the samples\n",
    "print(set(y_train))"
   ]
  },
  {
   "cell_type": "markdown",
   "id": "f6f4c1fd",
   "metadata": {},
   "source": [
    "<hr>\n",
    "\n",
    "### One Hot Encoding\n",
    "\n",
    "<strong>Defined</strong>: encoding each label by converting it to a list of 10 elements. For example, \"1\" will be [0,1,0,0,0,0,0,0,0,0], etc."
   ]
  },
  {
   "cell_type": "code",
   "execution_count": 7,
   "id": "778b3b5a",
   "metadata": {},
   "outputs": [],
   "source": [
    "# One hot encode the y set\n",
    "from tensorflow.keras.utils import to_categorical\n",
    "y_train_encoded = to_categorical(y_train)\n",
    "y_test_encoded = to_categorical(y_test)"
   ]
  },
  {
   "cell_type": "code",
   "execution_count": null,
   "id": "08746fc2",
   "metadata": {},
   "outputs": [],
   "source": []
  }
 ],
 "metadata": {
  "kernelspec": {
   "display_name": "Python 3",
   "language": "python",
   "name": "python3"
  },
  "language_info": {
   "codemirror_mode": {
    "name": "ipython",
    "version": 3
   },
   "file_extension": ".py",
   "mimetype": "text/x-python",
   "name": "python",
   "nbconvert_exporter": "python",
   "pygments_lexer": "ipython3",
   "version": "3.8.9"
  }
 },
 "nbformat": 4,
 "nbformat_minor": 5
}
