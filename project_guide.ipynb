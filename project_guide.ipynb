{
 "cells": [
  {
   "cell_type": "markdown",
   "id": "fd5afa99",
   "metadata": {},
   "source": [
    "# Image Classification with Tensorflow\n",
    "\n",
    "Reference: [Coursera Projects](https://www.coursera.org/learn/tensorflow-beginner-basic-image-classification/home/welcome)"
   ]
  },
  {
   "cell_type": "markdown",
   "id": "24173efa",
   "metadata": {},
   "source": [
    "<hr>\n",
    "\n",
    "<strong>Objective</strong>: create and train a neural network model using keras.Tensorflow that predicts the class of an image (i.e. an image with the number 5 should output the number \"5\"). "
   ]
  },
  {
   "cell_type": "markdown",
   "id": "b8acc7ab",
   "metadata": {},
   "source": [
    "<hr>\n",
    "\n",
    "### Step1: Dependencies"
   ]
  },
  {
   "cell_type": "code",
   "execution_count": 73,
   "id": "45e1654b",
   "metadata": {},
   "outputs": [
    {
     "name": "stdout",
     "output_type": "stream",
     "text": [
      "Using TensorFlow version 2.4.1\n"
     ]
    }
   ],
   "source": [
    "import tensorflow as tf\n",
    "\n",
    "print('Using TensorFlow version', tf.__version__)"
   ]
  },
  {
   "cell_type": "markdown",
   "id": "2a3723c2",
   "metadata": {},
   "source": [
    "<hr>\n",
    "\n",
    "### Step 2: Import the Data"
   ]
  },
  {
   "cell_type": "code",
   "execution_count": 74,
   "id": "166e76b5",
   "metadata": {},
   "outputs": [],
   "source": [
    "# the MNIST dataset is commonly used for training image classification models\n",
    "from tensorflow.keras.datasets import mnist\n",
    "(x_train, y_train), (x_test, y_test) = mnist.load_data()"
   ]
  },
  {
   "cell_type": "code",
   "execution_count": 75,
   "id": "6eb7bfa7",
   "metadata": {},
   "outputs": [
    {
     "name": "stdout",
     "output_type": "stream",
     "text": [
      "Shape of x: (60000, 28, 28)\n",
      "Shape of y: (60000,)\n",
      "------------------------------\n",
      "Shape of x: (10000, 28, 28)\n",
      "Shape of y: (10000,)\n"
     ]
    }
   ],
   "source": [
    "print(f\"Shape of x: {x_train.shape}\")\n",
    "print(f\"Shape of y: {y_train.shape}\")\n",
    "print(\"---\" * 10)\n",
    "print(f\"Shape of x: {x_test.shape}\")\n",
    "print(f\"Shape of y: {y_test.shape}\")"
   ]
  },
  {
   "cell_type": "markdown",
   "id": "4f4da5fb",
   "metadata": {},
   "source": [
    "<strong>Observed</strong>: There are 60,000 training samples and 10,000 testing samples. Each MNIST sample has 28 columns and 28 rows (each representing one pixel in an image)"
   ]
  },
  {
   "cell_type": "code",
   "execution_count": 76,
   "id": "176f9cdd",
   "metadata": {},
   "outputs": [
    {
     "data": {
      "image/png": "[encoded data removed]",
      "text/plain": [
       "<Figure size 432x288 with 1 Axes>"
      ]
     },
     "metadata": {
      "needs_background": "light"
     },
     "output_type": "display_data"
    }
   ],
   "source": [
    "import matplotlib.pyplot as plt\n",
    "%matplotlib inline\n",
    "\n",
    "plt.imshow(x_train[0], cmap='binary')\n",
    "plt.show()"
   ]
  },
  {
   "cell_type": "code",
   "execution_count": 77,
   "id": "b6d502dc",
   "metadata": {},
   "outputs": [
    {
     "name": "stdout",
     "output_type": "stream",
     "text": [
      "5\n"
     ]
    }
   ],
   "source": [
    "print(y_train[0])"
   ]
  },
  {
   "cell_type": "code",
   "execution_count": 78,
   "id": "04a4fd67",
   "metadata": {},
   "outputs": [
    {
     "name": "stdout",
     "output_type": "stream",
     "text": [
      "{0, 1, 2, 3, 4, 5, 6, 7, 8, 9}\n"
     ]
    }
   ],
   "source": [
    "# displaying the possible outputs of the samples\n",
    "print(set(y_train))"
   ]
  },
  {
   "cell_type": "markdown",
   "id": "26faa135",
   "metadata": {},
   "source": [
    "<hr>\n",
    "\n",
    "### Step 3: One Hot Encoding\n",
    "\n",
    "<strong>Defined</strong>: encoding each label by converting it to a list of 10 elements. For example, \"1\" will be [0,1,0,0,0,0,0,0,0,0], etc."
   ]
  },
  {
   "cell_type": "code",
   "execution_count": 79,
   "id": "a297a662",
   "metadata": {},
   "outputs": [],
   "source": [
    "# One hot encode the y set\n",
    "from tensorflow.keras.utils import to_categorical\n",
    "y_train_encoded = to_categorical(y_train)\n",
    "y_test_encoded = to_categorical(y_test)"
   ]
  },
  {
   "cell_type": "code",
   "execution_count": 80,
   "id": "8d58a883",
   "metadata": {},
   "outputs": [
    {
     "name": "stdout",
     "output_type": "stream",
     "text": [
      "new shape of y_train: (60000, 10)\n",
      "new shape of y_test: (10000, 10)\n"
     ]
    }
   ],
   "source": [
    "# observe the new shape of the the y set\n",
    "print(f\"new shape of y_train: {y_train_encoded.shape}\")\n",
    "print(f\"new shape of y_test: {y_test_encoded.shape}\")"
   ]
  },
  {
   "cell_type": "markdown",
   "id": "2fe0a8a0",
   "metadata": {},
   "source": [
    "<strong>Observed</strong>: The y sets are now 10 columns long, meaning each labels is encoded in a len = 10 array."
   ]
  },
  {
   "cell_type": "code",
   "execution_count": 81,
   "id": "c98400f8",
   "metadata": {},
   "outputs": [
    {
     "name": "stdout",
     "output_type": "stream",
     "text": [
      "the new encoded label: [0. 0. 0. 0. 0. 1. 0. 0. 0. 0.]\n"
     ]
    }
   ],
   "source": [
    "print(f\"the new encoded label: {y_train_encoded[0]}\")"
   ]
  },
  {
   "cell_type": "markdown",
   "id": "b7e1e650",
   "metadata": {},
   "source": [
    "<hr>\n",
    "\n",
    "### Neural Networks Visual"
   ]
  },
  {
   "cell_type": "markdown",
   "id": "c1200280",
   "metadata": {},
   "source": [
    "<img src=\"images/nn.png\">"
   ]
  },
  {
   "cell_type": "markdown",
   "id": "406775ba",
   "metadata": {},
   "source": [
    "<strong>A representation of the linear equation in a neural network</strong>  \n",
    "- Each x represents an input\n",
    "- Each w represents a weight that acts as a multiplier for the input\n",
    "- The b represents an intercept or bias\n",
    "- The y represents the output created by the linear equation  \n",
    "\n",
    "<strong>The vectorized model is the in vector form; each weight is then applied to each input \"x\".</strong>\n",
    "- This is another way of visualizing the linear model, where the \".\" represents \"applied to\"."
   ]
  },
  {
   "cell_type": "markdown",
   "id": "f2026ca2",
   "metadata": {},
   "source": [
    "<hr>\n",
    "\n",
    "### The objective is to find the optimal W and b to ensure that the input \"x\" leads to output \"y\"  \n",
    "- In other words, we need to use an optimization method to solve classification problems"
   ]
  },
  {
   "cell_type": "markdown",
   "id": "d39b843e",
   "metadata": {},
   "source": [
    "### Below is the explanation given in the lesson:\n",
    "\n",
    "<img src=\"images/nnexplained.png\">"
   ]
  },
  {
   "cell_type": "markdown",
   "id": "03acfb5e",
   "metadata": {},
   "source": [
    "<hr>\n",
    "\n",
    "### Applying the Problem to a Neural Network model"
   ]
  },
  {
   "cell_type": "markdown",
   "id": "29bfd397",
   "metadata": {},
   "source": [
    "- Remember that the shape of our dataset was 60000x28x28\n",
    "    - In other words, we have 60,000 samples, each one consisting of 28 pixels by 28 pixels\n",
    "\n",
    "<img src=\"images/nnapplied.png\">\n",
    "\n",
    "- In total we have 28 x 28 inputs, therefore there are 784 inputs/pixels per sample\n",
    "- Each feature/input has a corresponding weight that it is multiplied to\n",
    "- Each sample has a bias that is added to the linear equation\n",
    "- Remember that the W and b is optimized using an optimizer."
   ]
  },
  {
   "cell_type": "markdown",
   "id": "f9d3eb97",
   "metadata": {},
   "source": [
    "<hr>\n",
    "\n",
    "### A Deeper Dive into Neural Networks"
   ]
  },
  {
   "cell_type": "markdown",
   "id": "6bd7d8de",
   "metadata": {},
   "source": [
    "<img src=\"images/nndetailed.png\">"
   ]
  },
  {
   "cell_type": "markdown",
   "id": "0647be41",
   "metadata": {},
   "source": [
    "<strong>This is a Deep Learning Neural Network</strong>\n",
    "- Similar to the linear equation, the \"x\" still represents an input that is fed alongside weights and a bias.\n",
    "- The difference here is that the \"+\" summation circle also applies an Activation function\n",
    "    - This Activation acts as a cascading catalyst, allowing the model to learn non-linear patterns\n",
    "    - This gives the model more flexibility to getting the correct \"y\" output\n",
    "- Each of these hidden layers acts as a \"y\" output of the previous layer.\n",
    "    - In other words, each model is a combination of several \"mini-models\" repeatedly learning from previous inputs.\n",
    "    - this increases the accuracy of the output \"y\"  \n",
    "    \n",
    "### Conclusion: \"This model is much more likely to solve the problem as it can learn more complex function mapping for the inputs and outputs in our dataset\""
   ]
  },
  {
   "cell_type": "markdown",
   "id": "59dbeda8",
   "metadata": {},
   "source": [
    "<hr>\n",
    "\n",
    "### Step 4: Data Preprocessing"
   ]
  },
  {
   "cell_type": "code",
   "execution_count": 82,
   "id": "37498160",
   "metadata": {},
   "outputs": [
    {
     "name": "stdout",
     "output_type": "stream",
     "text": [
      "Training set: (60000, 784)\n",
      "Testing set: (10000, 784)\n"
     ]
    }
   ],
   "source": [
    "import numpy as np\n",
    "\n",
    "# We need to reshape the data into a 2dimensional numpy array. 28 x 28 = 784\n",
    "x_train_reshaped = np.reshape(x_train, (60000, 784))\n",
    "x_test_reshaped = np.reshape(x_test, (10000,784))\n",
    "print(f\"Training set: {x_train_reshaped.shape}\")\n",
    "print(f\"Testing set: {x_test_reshaped.shape}\")\n",
    "\n",
    "# Now the shape of both input sets are 2dimensional, with one total sample equaling 28x28 vector array"
   ]
  },
  {
   "cell_type": "code",
   "execution_count": 83,
   "id": "edb5482f",
   "metadata": {},
   "outputs": [],
   "source": [
    "# to make the model faster, we can normalize the data by calculating the mean and standard deviation of the dataset\n",
    "# then use the mean and standard deviation to normalize each pixel value\n",
    "x_mean = np.mean(x_train_reshaped)\n",
    "x_std = np.std(x_train_reshaped)\n",
    "\n",
    "# define the constant\n",
    "epsilon = 1e-10\n",
    "\n",
    "# formula to normalize the dataset\n",
    "# std is usually a small value that can cause unstability in the normalization, so we subtract a constant (epsilon)\n",
    "x_train_norm = (x_train_reshaped - x_mean) / (x_std + epsilon)\n",
    "x_test_norm = (x_test_reshaped - x_mean) / (x_std + epsilon)"
   ]
  },
  {
   "cell_type": "code",
   "execution_count": 84,
   "id": "76441f67",
   "metadata": {},
   "outputs": [
    {
     "name": "stdout",
     "output_type": "stream",
     "text": [
      "{0, 1, 2, 3, 9, 11, 14, 16, 18, 23, 24, 25, 26, 27, 30, 35, 36, 39, 43, 45, 46, 49, 55, 56, 64, 66, 70, 78, 80, 81, 82, 90, 93, 94, 107, 108, 114, 119, 126, 127, 130, 132, 133, 135, 136, 139, 148, 150, 154, 156, 160, 166, 170, 171, 172, 175, 182, 183, 186, 187, 190, 195, 198, 201, 205, 207, 212, 213, 219, 221, 225, 226, 229, 238, 240, 241, 242, 244, 247, 249, 250, 251, 252, 253, 255}\n",
      "------------------------------\n",
      "{-0.38589016215482896, 1.306921966983251, 1.17964285952926, 1.803310486053816, 1.6887592893452241, 2.8215433456857437, 2.719720059722551, 1.1923707702746593, 1.7396709323268205, 2.057868700961798, 2.3633385588513764, 2.096052433197995, 1.7651267538176187, 2.7960875241949457, 2.7451758812133495, 2.45243393406917, 0.02140298169794222, -0.22042732246464067, 1.2305545025108566, 0.2759611966059242, 2.210603629906587, 2.6560805059955555, 2.6051688630139593, -0.4240738943910262, 0.4668798577869107, 0.1486820891519332, 0.3905123933145161, 1.0905474843114664, -0.09314821501064967, 1.4851127174188385, 2.7579037919587486, 1.5360243604004349, 0.07231462467953861, -0.13133194724684696, 1.294194056237852, 0.03413089244334132, 1.3451056992194483, 2.274243183633583, -0.24588314395543887, 0.772349715676489, 0.75962180493109, 0.7214380726948927, 0.1995937321335296, -0.41134598364562713, 0.5687031437501034, 0.5941589652409017, 0.9378125553666773, 0.9505404661120763, 0.6068868759863008, 0.4159682148053143, -0.042236572029053274, 2.7706317027041476, 2.1342361654341926, 0.12322626766113501, -0.08042030426525057, 0.16140999989733232, 1.8924058612716097, 1.2560103240016547, 2.185147808415789, 0.6196147867316999, 1.943317504253206, -0.11860403650144787, -0.30952269768243434, 1.9942291472348024, -0.2840668761916362, 2.6306246845047574, 2.286971094378982, -0.19497150097384247, -0.39861807290022805, 0.2886891073513233, 1.7523988430722195, 2.3887943803421745, 2.681536327486354, 1.4596568959280403, 2.439706023323771, 2.7833596134495466, 2.490617666305367, -0.10587612575604877, 1.5614801818912332, 1.9051337720170087, 1.6123918248728295, 1.268738234747054, 1.9560454149986053, 2.6433525952501564, 1.026907930584471}\n"
     ]
    }
   ],
   "source": [
    "print(set(x_train_reshaped[0]))\n",
    "print(\"---\" * 10)\n",
    "print(set(x_train_norm[0]))"
   ]
  },
  {
   "cell_type": "markdown",
   "id": "feb454dc",
   "metadata": {},
   "source": [
    " We normalized the input values from whole numbers to formulated values using the formula above. This makes the input values normalized to where the model can compute faster and output more accurately than if used on the non-normalized inputs."
   ]
  },
  {
   "cell_type": "markdown",
   "id": "fa18866b",
   "metadata": {},
   "source": [
    "<hr>\n",
    "\n",
    "### Step 5: Create the Neural Network Model"
   ]
  },
  {
   "cell_type": "code",
   "execution_count": 85,
   "id": "2b331edd",
   "metadata": {},
   "outputs": [],
   "source": [
    "from tensorflow.keras.models import Sequential\n",
    "from tensorflow.keras.layers import Dense\n",
    "\n",
    "# This is another way of creating model, different from other projects I've done before\n",
    "# Usually I would use model.add to create the model\n",
    "model = Sequential([\n",
    "    # First Layer\n",
    "    Dense(128, activation='relu', input_shape=(784,)),\n",
    "    # Second Layer\n",
    "    Dense(128, activation='relu'),\n",
    "    # Third Layer\n",
    "    Dense(10, activation='softmax') # softmax gives the probability scores of the nodes (10). These probabilities sum to 1.\n",
    "])"
   ]
  },
  {
   "cell_type": "markdown",
   "id": "43f45087",
   "metadata": {},
   "source": [
    "- The model and relu function can be described as the below formulas"
   ]
  },
  {
   "cell_type": "markdown",
   "id": "cd644c38",
   "metadata": {},
   "source": [
    "<img src='images/nnact.png'>"
   ]
  },
  {
   "cell_type": "markdown",
   "id": "312fadc9",
   "metadata": {},
   "source": [
    "### Two steps to each node (128 then 128 then 10):\n",
    "\n",
    "- The first step (linear function) is similar to the Neural Network Linear equation discussed before\n",
    "    - The difference is the output, where the output is not \"y\", but rather \"Z\"\n",
    "    - This means that for each input \"X\", a weight \"W\" is applied, then the product is added to bias \"b\"\n",
    "    - This results in the weighted sum \"Z\" which is fed to the next part of the node\n",
    "    \n",
    "- The second step (activation function) applies the relu\n",
    "    - relu is one of the most common activation functions\n",
    "    - relu is a linear function for all positive values, and all negative values are set to 0"
   ]
  },
  {
   "cell_type": "markdown",
   "id": "9c0e8b5e",
   "metadata": {},
   "source": [
    "<img src='images/nodefunction.png'>"
   ]
  },
  {
   "cell_type": "code",
   "execution_count": 86,
   "id": "b8ef2ae9",
   "metadata": {},
   "outputs": [
    {
     "name": "stdout",
     "output_type": "stream",
     "text": [
      "Model: \"sequential_5\"\n",
      "_________________________________________________________________\n",
      "Layer (type)                 Output Shape              Param #   \n",
      "=================================================================\n",
      "dense_15 (Dense)             (None, 128)               100480    \n",
      "_________________________________________________________________\n",
      "dense_16 (Dense)             (None, 128)               16512     \n",
      "_________________________________________________________________\n",
      "dense_17 (Dense)             (None, 10)                1290      \n",
      "=================================================================\n",
      "Total params: 118,282\n",
      "Trainable params: 118,282\n",
      "Non-trainable params: 0\n",
      "_________________________________________________________________\n"
     ]
    }
   ],
   "source": [
    "# Compile the model\n",
    "model.compile(\n",
    "    optimizer='sgd', # stochastic gradient descent\n",
    "    loss='categorical_crossentropy', # difference between predicted output and actual outputs of the data\n",
    "    metrics=['accuracy']\n",
    ")\n",
    "\n",
    "model.summary()"
   ]
  },
  {
   "cell_type": "markdown",
   "id": "37661746",
   "metadata": {},
   "source": [
    "### Notes on compiling:\n",
    "- SGD Optimizer: stands for stochastic gradient descent. Used to minimize the loss of the model\n",
    "- categorical_crossentropy: the models predicted output - actual output. This needs to be minimized for a more accurate model.\n",
    "- metrics=['accuracy']: this is what we want to measure"
   ]
  },
  {
   "cell_type": "markdown",
   "id": "8150f6c9",
   "metadata": {},
   "source": [
    "<hr>\n",
    "\n",
    "### Step 6: Training the model"
   ]
  },
  {
   "cell_type": "code",
   "execution_count": 87,
   "id": "5ba1f78a",
   "metadata": {},
   "outputs": [
    {
     "name": "stdout",
     "output_type": "stream",
     "text": [
      "Epoch 1/10\n",
      "1875/1875 [==============================] - 1s 671us/step - loss: 0.6218 - accuracy: 0.8179\n",
      "Epoch 2/10\n",
      "1875/1875 [==============================] - 1s 662us/step - loss: 0.1931 - accuracy: 0.9432\n",
      "Epoch 3/10\n",
      "1875/1875 [==============================] - 1s 659us/step - loss: 0.1437 - accuracy: 0.9578\n",
      "Epoch 4/10\n",
      "1875/1875 [==============================] - 1s 663us/step - loss: 0.1158 - accuracy: 0.9648\n",
      "Epoch 5/10\n",
      "1875/1875 [==============================] - 1s 678us/step - loss: 0.0997 - accuracy: 0.9702\n",
      "Epoch 6/10\n",
      "1875/1875 [==============================] - 1s 660us/step - loss: 0.0828 - accuracy: 0.97610s - loss: 0\n",
      "Epoch 7/10\n",
      "1875/1875 [==============================] - 1s 666us/step - loss: 0.0748 - accuracy: 0.9780\n",
      "Epoch 8/10\n",
      "1875/1875 [==============================] - 1s 666us/step - loss: 0.0648 - accuracy: 0.9814\n",
      "Epoch 9/10\n",
      "1875/1875 [==============================] - 1s 664us/step - loss: 0.0590 - accuracy: 0.9833\n",
      "Epoch 10/10\n",
      "1875/1875 [==============================] - 1s 688us/step - loss: 0.0514 - accuracy: 0.9851\n"
     ]
    },
    {
     "data": {
      "text/plain": [
       "<tensorflow.python.keras.callbacks.History at 0x13311411fd0>"
      ]
     },
     "execution_count": 87,
     "metadata": {},
     "output_type": "execute_result"
    }
   ],
   "source": [
    "model.fit(x_train_norm, y_train_encoded, epochs=10)"
   ]
  },
  {
   "cell_type": "markdown",
   "id": "3492f3a8",
   "metadata": {},
   "source": [
    "### Training usage:\n",
    "- x_train_norm is used because it is the normalized inputs from the dataset\n",
    "- y_train_encoded is used because it is a one hot encoded version of the output values"
   ]
  },
  {
   "cell_type": "code",
   "execution_count": 88,
   "id": "fd398175",
   "metadata": {},
   "outputs": [
    {
     "name": "stdout",
     "output_type": "stream",
     "text": [
      "313/313 [==============================] - 0s 455us/step - loss: 0.0871 - accuracy: 0.9730\n",
      "Test accuracy: 97.29999899864197\n"
     ]
    }
   ],
   "source": [
    "# To ensure the model was not using some sort of memorization, we need to evaluate it\n",
    "loss, accuracy = model.evaluate(x_test_norm, y_test_encoded)\n",
    "print(f\"Test accuracy: {accuracy * 100}\")"
   ]
  },
  {
   "cell_type": "markdown",
   "id": "29ec5c5b",
   "metadata": {},
   "source": [
    "### Notes on Evaluating the model\n",
    "- IF the test accuracy was somewhat close to the accuracy outputted from the model iteration (10 epochs):\n",
    "    - we can conclude that the model did NOT memorize the dataset, and that the training is successful\n",
    "- IF the test accuracy was significantly lower/higher or far from the accuracy of the model iteration (10 epochs):\n",
    "    - we can conclude that the model memorized the dataset"
   ]
  },
  {
   "cell_type": "markdown",
   "id": "30f10a86",
   "metadata": {},
   "source": [
    "<hr>\n",
    "\n",
    "### Step 7: Predictions and Plotting"
   ]
  },
  {
   "cell_type": "code",
   "execution_count": 89,
   "id": "2e3848df",
   "metadata": {},
   "outputs": [
    {
     "name": "stdout",
     "output_type": "stream",
     "text": [
      "Shape of the predictions: (10000, 10)\n"
     ]
    }
   ],
   "source": [
    "predictions = model.predict(x_test_norm)\n",
    "print(f\"Shape of the predictions: {predictions.shape}\")"
   ]
  },
  {
   "cell_type": "code",
   "execution_count": 90,
   "id": "abfc87b9",
   "metadata": {},
   "outputs": [
    {
     "data": {
      "image/png": "[encoded data removed]",
      "text/plain": [
       "<Figure size 864x864 with 25 Axes>"
      ]
     },
     "metadata": {},
     "output_type": "display_data"
    }
   ],
   "source": [
    "# set the entire figure size to a 12x12 figure\n",
    "plt.figure(figsize=(12,12))\n",
    "\n",
    "# Optional: set a current index, easier for for loop iteration\n",
    "begin_at = 0\n",
    "\n",
    "# for loop to plot each prediction ofr the model\n",
    "for i in range(25):\n",
    "    \n",
    "    # set the size of each plot prediction\n",
    "    plt.subplot(5,5,i+1)\n",
    "    \n",
    "    # remove the grid, x ticks, and y ticks\n",
    "    plt.grid(False)\n",
    "    plt.xticks([])\n",
    "    plt.yticks([])\n",
    "    \n",
    "    # each prediction should be set to a numpy array using the list of predictions\n",
    "    prediction = np.argmax(predictions[begin_at+i])\n",
    "    \n",
    "    # set a variable for the actual output value (what it is supposed to be) to compare to the predicted value\n",
    "    ground_truth = y_test[begin_at+i]\n",
    "    \n",
    "    # set the color output to green if the prediction matches the actual value. If not, color it red.\n",
    "    col='g'\n",
    "    if prediction != ground_truth:\n",
    "        col='r'\n",
    "    \n",
    "    # what should be displayed? the index of whatever image we're predicting, the predicted value, and actual value.\n",
    "    plt.xlabel(\"i={}, p={}, gt={}\".format(begin_at+i, prediction, ground_truth), color=col)\n",
    "    plt.imshow(x_test[begin_at+i], cmap='binary')\n",
    "\n",
    "plt.show()"
   ]
  },
  {
   "cell_type": "code",
   "execution_count": 91,
   "id": "17c8410d",
   "metadata": {},
   "outputs": [
    {
     "data": {
      "image/png": "[encoded data removed]",
      "text/plain": [
       "<Figure size 432x288 with 1 Axes>"
      ]
     },
     "metadata": {
      "needs_background": "light"
     },
     "output_type": "display_data"
    }
   ],
   "source": [
    "plt.plot(predictions[8])\n",
    "plt.show()"
   ]
  },
  {
   "cell_type": "markdown",
   "id": "da7b7408",
   "metadata": {},
   "source": [
    "### The model predicted images 1-25 correctly. Accuracy set at around 98%"
   ]
  },
  {
   "cell_type": "code",
   "execution_count": null,
   "id": "c3b97425",
   "metadata": {},
   "outputs": [],
   "source": []
  }
 ],
 "metadata": {
  "kernelspec": {
   "display_name": "Python 3",
   "language": "python",
   "name": "python3"
  },
  "language_info": {
   "codemirror_mode": {
    "name": "ipython",
    "version": 3
   },
   "file_extension": ".py",
   "mimetype": "text/x-python",
   "name": "python",
   "nbconvert_exporter": "python",
   "pygments_lexer": "ipython3",
   "version": "3.8.9"
  }
 },
 "nbformat": 4,
 "nbformat_minor": 5
}
